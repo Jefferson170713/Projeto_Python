{
 "cells": [
  {
   "cell_type": "code",
   "execution_count": 5,
   "metadata": {},
   "outputs": [],
   "source": [
    "# Bibliotecas necessárias\n",
    "import pandas as pd\n",
    "import os"
   ]
  },
  {
   "cell_type": "code",
   "execution_count": 9,
   "metadata": {},
   "outputs": [],
   "source": [
    "\n",
    "# 1 - caminho dos arquivos\n",
    "pasta_dos_arquivos = os.path.abspath('./Arquivo artigos/Arigos 2017')\n",
    "# 2 - defiição do dataframe vazio\n",
    "df = pd.DataFrame()\n",
    "# 3 - mostra o tamanho do dataframe vazio\n",
    "print(f'Mostrando o tamaho do corpo do dataframe vazio: {df.shape}')\n",
    "# 4 - iteração sobre os arquivos\n",
    "for numero_do_arquivo, arquivo in enumerate(os.listdir(pasta_dos_arquivos)):\n",
    "    # 4.1 - O for para iterar sobre os caminhos dos arquivos\n",
    "    caminho = os.path.join(pasta_dos_arquivos, arquivo)\n",
    "    # 4.2 - leitura do arquivo\n",
    "    dfs = pd.read_excel(caminho)\n",
    "    # 4.3 - concatenação dos arquivos\n",
    "    df = pd.concat([df, dfs], ignore_index=True)\n",
    "    # 4.4 - mostra o tamanho do arquivo atual e o acumulado\n",
    "    print(f'Arquivo {numero_do_arquivo+1} - {arquivo} - Tamanho do arquivo atualmete: {dfs.shape} - arquivo acumulado: {df.shape}')\n",
    "    print(100*'-')\n"
   ]
  },
  {
   "cell_type": "code",
   "execution_count": 10,
   "metadata": {},
   "outputs": [],
   "source": [
    "# 5 - resultado final com o tamanho do arquivo final  \n",
    "print(f'Tamanho do aquivo final: {df.shape}')\n",
    "# 6 - exportando para excel.\n",
    "df.to_excel('./Arquivo artigos/Arigos 2017/Artigos_final_2017.xlsx', index=False)\n",
    "# 7 - lendo o arquivo excel, visualizando os dados baixados\n",
    "print(type(df))\n",
    "df = pd.read_excel('./Arquivo artigos/Arigos 2017/Artigos_final_2017.xlsx')\n",
    "df.head(5)"
   ]
  }
 ],
 "metadata": {
  "kernelspec": {
   "display_name": "Python 3",
   "language": "python",
   "name": "python3"
  },
  "language_info": {
   "codemirror_mode": {
    "name": "ipython",
    "version": 3
   },
   "file_extension": ".py",
   "mimetype": "text/x-python",
   "name": "python",
   "nbconvert_exporter": "python",
   "pygments_lexer": "ipython3",
   "version": "3.10.6"
  }
 },
 "nbformat": 4,
 "nbformat_minor": 2
}
