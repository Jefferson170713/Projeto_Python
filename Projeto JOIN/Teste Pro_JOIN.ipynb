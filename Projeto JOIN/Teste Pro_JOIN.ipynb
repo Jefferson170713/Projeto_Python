{
 "cells": [
  {
   "cell_type": "code",
   "execution_count": 5,
   "metadata": {},
   "outputs": [],
   "source": [
    "import tkinter as tk\n",
    "from tkinter import ttk"
   ]
  },
  {
   "cell_type": "code",
   "execution_count": 9,
   "metadata": {},
   "outputs": [],
   "source": [
    "# instanciando o objeto tkinter\n",
    "root = tk.Tk()\n",
    "# adicionado o título da janela\n",
    "root.title(\"My GUI App\")\n",
    "\n",
    "\n",
    "# loop principal\n",
    "root.mainloop()"
   ]
  },
  {
   "cell_type": "code",
   "execution_count": 10,
   "metadata": {},
   "outputs": [],
   "source": [
    "import tkinter as tk\n",
    "from tkinter import filedialog\n",
    "import pandas as pd\n",
    "\n",
    "def open_file():\n",
    "    file_path = filedialog.askopenfilename(filetypes=[('Excel Files', '*.xlsx')])\n",
    "    if file_path:\n",
    "        df = pd.read_excel(file_path)\n",
    "        print(df)\n",
    "\n",
    "root = tk.Tk()\n",
    "root.title(\"My GUI App\")\n",
    "root.geometry(\"500x300\")  # Define o tamanho da janela para 500x300\n",
    "\n",
    "open_button = tk.Button(root, text=\"Open Excel File\", command=open_file)\n",
    "open_button.pack()\n",
    "\n",
    "root.mainloop()"
   ]
  },
  {
   "cell_type": "code",
   "execution_count": null,
   "metadata": {},
   "outputs": [],
   "source": []
  }
 ],
 "metadata": {
  "kernelspec": {
   "display_name": "Python 3",
   "language": "python",
   "name": "python3"
  },
  "language_info": {
   "codemirror_mode": {
    "name": "ipython",
    "version": 3
   },
   "file_extension": ".py",
   "mimetype": "text/x-python",
   "name": "python",
   "nbconvert_exporter": "python",
   "pygments_lexer": "ipython3",
   "version": "3.10.6"
  }
 },
 "nbformat": 4,
 "nbformat_minor": 2
}
