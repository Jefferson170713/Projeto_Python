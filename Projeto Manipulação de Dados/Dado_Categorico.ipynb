{
 "cells": [
  {
   "cell_type": "code",
   "execution_count": 1,
   "metadata": {},
   "outputs": [],
   "source": [
    "import pandas as pd\n",
    "import numpy as np"
   ]
  },
  {
   "cell_type": "markdown",
   "metadata": {},
   "source": [
    "# Manipulação de Valores 1\n",
    " - Inteiros\n",
    "    - função np.randint(start, end, count)"
   ]
  },
  {
   "cell_type": "code",
   "execution_count": 2,
   "metadata": {},
   "outputs": [
    {
     "name": "stdout",
     "output_type": "stream",
     "text": [
      "[62 70 25 ... 49 27 74]\n",
      "<class 'numpy.ndarray'>\n",
      "(100000,)\n",
      "<class 'pandas.core.series.Series'>\n",
      "RangeIndex: 100000 entries, 0 to 99999\n",
      "Series name: None\n",
      "Non-Null Count   Dtype\n",
      "--------------   -----\n",
      "100000 non-null  int32\n",
      "dtypes: int32(1)\n",
      "memory usage: 390.8 KB\n",
      "None\n"
     ]
    }
   ],
   "source": [
    "# Usando a biblioteca pandas para criar uma serie de 100000 elementos numéricos np.array\n",
    "# Variando de 0 a 100, com 100000 elementos\n",
    "\n",
    "# 1 - a variável \"inicio\" recebe o valor 0, que é o valor inicial do intervalo\n",
    "inicio = 0\n",
    "# 2 - a variável \"fim\" recebe o valor 100, que é o valor final do intervalo\n",
    "fim = 100\n",
    "# 3 - a variável \"quantidade\" recebe o valor 100000, que é a quantidade de elementos\n",
    "quantidade = 100000\n",
    "# 4 - a variável \"a\" recebe um array de 100000 elementos, com valores inteiros aleatórios\n",
    "a = np.random.randint( inicio, fim, quantidade)\n",
    "# 5 - a variável \"a\" senddo mostrada de várias formas\n",
    "print(a)\n",
    "print(type(a))\n",
    "print(a.shape)\n",
    "a = pd.Series(a)\n",
    "print(a.info()) "
   ]
  },
  {
   "cell_type": "markdown",
   "metadata": {},
   "source": [
    "# Manipulação de Valores 2\n",
    "- Números Decimal ou ponto flutuante"
   ]
  },
  {
   "cell_type": "code",
   "execution_count": 3,
   "metadata": {},
   "outputs": [
    {
     "name": "stdout",
     "output_type": "stream",
     "text": [
      "0         67.226196\n",
      "1         52.023547\n",
      "2         18.530474\n",
      "3         87.025387\n",
      "4         38.966924\n",
      "            ...    \n",
      "999995    48.368420\n",
      "999996    57.325366\n",
      "999997    34.545978\n",
      "999998    68.067097\n",
      "999999    51.548550\n",
      "Length: 1000000, dtype: float64\n",
      "<class 'pandas.core.series.Series'>\n",
      "(1000000,)\n",
      "<class 'pandas.core.series.Series'>\n",
      "RangeIndex: 1000000 entries, 0 to 999999\n",
      "Series name: None\n",
      "Non-Null Count    Dtype  \n",
      "--------------    -----  \n",
      "1000000 non-null  float64\n",
      "dtypes: float64(1)\n",
      "memory usage: 7.6 MB\n",
      "None\n"
     ]
    }
   ],
   "source": [
    "# 1. a variável \"tamanho\" recebe o valor 1000000, que é a quantidade de elementos\n",
    "tamanho = 1000000\n",
    "# 2. a variável \"b\" recebe um array de 1000000 elementos, com valores reais aleatórios que variam de 0 a 1 multiplicados por 100 \n",
    "# para ficar no intervalo de 0 a 100\n",
    "b = np.random.random(tamanho) * 100\n",
    "# 2.1 caso queria somente 2 casas decimais, descomente a linha abaixo\n",
    "#b = np.round(b, 2)\n",
    "# 3. a variável \"b\" sendo mostrada de várias formas\n",
    "b = pd.Series(b)\n",
    "print(b)\n",
    "print(type(b)) # Tipo de dado\n",
    "print(b.shape) # Formato do array\n",
    "print(b.info()) # Informações sobre o array\n",
    "#print(b.describe()) # Estatísticas sobre o array\n",
    "#print(b.value_counts()) # Valores únicos e a quantidade de vezes que aparecem\n",
    "#print(b.head()) # Mostra os 5 primeiros elementos\n",
    "#print(b.tail()) # Mostra os 5 últimos elementos"
   ]
  },
  {
   "cell_type": "markdown",
   "metadata": {},
   "source": [
    "# Manipulação de Valores 3\n",
    "- Dados Categóricos"
   ]
  },
  {
   "cell_type": "code",
   "execution_count": 16,
   "metadata": {},
   "outputs": [],
   "source": [
    "tamanho = 100000000\n",
    "elementos = ['catgoria A', 'categoria B', 'categoria C', 'categoria D']\n",
    "c = np.random.choice(elementos, tamanho)\n",
    "c = pd.Series(c)\n",
    "#print(c)\n",
    "#print(type(c)) # Tipo de dado\n",
    "#print(c.shape) # Formato do array\n",
    "print(c.info()) # Informações sobre o array\n",
    "#print(c.describe()) # Estatísticas sobre o array\n",
    "#print(c.value_counts()) # Valores únicos e a quantidade de vezes que aparecem\n",
    "#print(c.head()) # Mostra os 5 primeiros elementos"
   ]
  },
  {
   "cell_type": "code",
   "execution_count": null,
   "metadata": {},
   "outputs": [],
   "source": []
  }
 ],
 "metadata": {
  "kernelspec": {
   "display_name": "Python 3",
   "language": "python",
   "name": "python3"
  },
  "language_info": {
   "codemirror_mode": {
    "name": "ipython",
    "version": 3
   },
   "file_extension": ".py",
   "mimetype": "text/x-python",
   "name": "python",
   "nbconvert_exporter": "python",
   "pygments_lexer": "ipython3",
   "version": "3.10.6"
  }
 },
 "nbformat": 4,
 "nbformat_minor": 2
}
