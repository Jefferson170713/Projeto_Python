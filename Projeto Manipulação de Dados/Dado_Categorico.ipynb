{
 "cells": [
  {
   "cell_type": "code",
   "execution_count": 1,
   "metadata": {},
   "outputs": [],
   "source": [
    "import pandas as pd\n",
    "import numpy as np"
   ]
  },
  {
   "cell_type": "markdown",
   "metadata": {},
   "source": [
    "# Manipulação de Valores 1\n",
    " - Inteiros\n",
    "    - função np.randint(start, end, count)"
   ]
  },
  {
   "cell_type": "code",
   "execution_count": 2,
   "metadata": {},
   "outputs": [
    {
     "name": "stdout",
     "output_type": "stream",
     "text": [
      "[65 97 37 ... 73 10 69]\n",
      "<class 'numpy.ndarray'>\n",
      "(100000,)\n",
      "<class 'pandas.core.series.Series'>\n",
      "RangeIndex: 100000 entries, 0 to 99999\n",
      "Series name: None\n",
      "Non-Null Count   Dtype\n",
      "--------------   -----\n",
      "100000 non-null  int32\n",
      "dtypes: int32(1)\n",
      "memory usage: 390.8 KB\n",
      "None\n"
     ]
    }
   ],
   "source": [
    "# Usando a biblioteca pandas para criar uma serie de 100000 elementos numéricos np.array\n",
    "# Variando de 0 a 100, com 100000 elementos\n",
    "\n",
    "# 1 - a variável \"inicio\" recebe o valor 0, que é o valor inicial do intervalo\n",
    "inicio = 0\n",
    "# 2 - a variável \"fim\" recebe o valor 100, que é o valor final do intervalo\n",
    "fim = 100\n",
    "# 3 - a variável \"quantidade\" recebe o valor 100000, que é a quantidade de elementos\n",
    "quantidade = 100000\n",
    "# 4 - a variável \"a\" recebe um array de 100000 elementos, com valores inteiros aleatórios\n",
    "a = np.random.randint( inicio, fim, quantidade)\n",
    "# 5 - a variável \"a\" senddo mostrada de várias formas\n",
    "print(a)\n",
    "print(type(a))\n",
    "print(a.shape)\n",
    "a = pd.Series(a)\n",
    "print(a.info()) "
   ]
  },
  {
   "cell_type": "markdown",
   "metadata": {},
   "source": [
    "# Manipulação de Valores 2\n",
    "- Números Decimal ou ponto flutuante"
   ]
  },
  {
   "cell_type": "code",
   "execution_count": 3,
   "metadata": {},
   "outputs": [
    {
     "name": "stdout",
     "output_type": "stream",
     "text": [
      "0         89.794708\n",
      "1         68.036222\n",
      "2         79.112265\n",
      "3         93.822836\n",
      "4         55.717814\n",
      "            ...    \n",
      "999995    45.289313\n",
      "999996    91.882335\n",
      "999997    98.751710\n",
      "999998    36.662688\n",
      "999999    46.386573\n",
      "Length: 1000000, dtype: float64\n",
      "<class 'pandas.core.series.Series'>\n",
      "(1000000,)\n",
      "<class 'pandas.core.series.Series'>\n",
      "RangeIndex: 1000000 entries, 0 to 999999\n",
      "Series name: None\n",
      "Non-Null Count    Dtype  \n",
      "--------------    -----  \n",
      "1000000 non-null  float64\n",
      "dtypes: float64(1)\n",
      "memory usage: 7.6 MB\n",
      "None\n"
     ]
    }
   ],
   "source": [
    "tamanho = 1000000\n",
    "b = np.random.random(tamanho) * 100\n",
    "#b = np.random.random(1 * tamanho ).reshape( tamanho,) * 100\n",
    "#b = np.round(b, 2)\n",
    "b = pd.Series(b)\n",
    "print(b)\n",
    "print(type(b)) # Tipo de dado\n",
    "print(b.shape) # Formato do array\n",
    "print(b.info()) # Informações sobre o array\n",
    "#print(b.describe()) # Estatísticas sobre o array\n",
    "#print(b.value_counts()) # Valores únicos e a quantidade de vezes que aparecem\n",
    "#print(b.head()) # Mostra os 5 primeiros elementos\n",
    "#print(b.tail()) # Mostra os 5 últimos elementos"
   ]
  },
  {
   "cell_type": "markdown",
   "metadata": {},
   "source": [
    "# Manipulação de Valores 3\n",
    "- Dados Categóricos"
   ]
  },
  {
   "cell_type": "code",
   "execution_count": 4,
   "metadata": {},
   "outputs": [
    {
     "data": {
      "text/plain": [
       "array([73.88765011, 46.22756565, 61.84223042, 60.22897196, 52.13115268,\n",
       "       22.98290577, 31.83101413, 32.75509828,  1.990815  , 57.73542997,\n",
       "       15.65121317, 37.76677592, 25.45098799, 67.60738507, 20.90106536,\n",
       "       30.91216115, 63.95610845, 74.08932461, 95.85085768, 50.98083512,\n",
       "       98.83561013, 50.86804995, 37.54089313, 79.05561496, 33.51400016,\n",
       "       66.74436825, 49.1573448 , 24.29694085,  7.86231172, 54.72838006,\n",
       "       81.15795777,  8.92875166, 63.91010291, 83.08836253, 60.52718429,\n",
       "       90.34631367, 24.02474919, 50.21469847, 12.97613896, 98.82936773,\n",
       "        1.36010427, 93.06433988, 23.95635032, 81.75294315, 27.22106532,\n",
       "       94.87938707,  2.01569993, 44.85430057, 12.3206725 , 94.43365206,\n",
       "       32.55434345, 24.25753242, 54.87499436, 45.8005952 , 60.86381021,\n",
       "        3.08838616, 71.7088127 , 92.61339676, 16.4618854 , 97.76526524,\n",
       "       52.87922706, 60.59264139, 22.06476883, 35.51360397, 61.39579839,\n",
       "       51.81217519, 98.0665121 , 39.81930034, 84.3318077 , 38.88844409,\n",
       "       11.64782736, 32.61801164, 27.74491538,  6.98559815, 12.05524433,\n",
       "       77.33253441, 92.08373686, 67.83206126, 14.93939695, 55.35338956,\n",
       "        9.13301198, 50.3792349 ,  3.19422198, 67.45345351, 69.20304079,\n",
       "       33.20335791, 68.71794513, 12.02612687, 74.77851812, 47.96015711,\n",
       "        3.07867784, 23.33492592,  2.43625455, 91.25466264, 23.90873126,\n",
       "       30.10919201,  2.96707318, 96.63819543, 83.10019195, 41.42185529])"
      ]
     },
     "execution_count": 4,
     "metadata": {},
     "output_type": "execute_result"
    }
   ],
   "source": [
    "np.random.random(100) * 100"
   ]
  },
  {
   "cell_type": "code",
   "execution_count": null,
   "metadata": {},
   "outputs": [],
   "source": []
  }
 ],
 "metadata": {
  "kernelspec": {
   "display_name": "Python 3",
   "language": "python",
   "name": "python3"
  },
  "language_info": {
   "codemirror_mode": {
    "name": "ipython",
    "version": 3
   },
   "file_extension": ".py",
   "mimetype": "text/x-python",
   "name": "python",
   "nbconvert_exporter": "python",
   "pygments_lexer": "ipython3",
   "version": "3.10.6"
  }
 },
 "nbformat": 4,
 "nbformat_minor": 2
}
