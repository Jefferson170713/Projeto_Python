{
 "cells": [
  {
   "cell_type": "code",
   "execution_count": 3,
   "metadata": {},
   "outputs": [],
   "source": [
    "# [J]efferson [S]cript\n",
    "import pandas as pd\n",
    "import numpy as np"
   ]
  },
  {
   "cell_type": "code",
   "execution_count": 67,
   "metadata": {},
   "outputs": [],
   "source": [
    "# 0.0 Classe para gerar dados aleatórios\n",
    "class Gerador_de_Dados:\n",
    "    \n",
    "    # 1.0 -  Construtor da classe\n",
    "    def __init__( self, dataFrame = None, inicio_variacao = 0 , fim_variacao = 100 , quantidade_linhas=1000 ):\n",
    "        self.dataFrame = dataFrame\n",
    "        self.inicio_variacao = inicio_variacao\n",
    "        self.fim_variacao  = fim_variacao \n",
    "        self.quantidade_linhas = quantidade_linhas\n",
    "        #self.dados = None\n",
    "        \n",
    "    # 2.0 - Método para criar uma série de dados inteiros\n",
    "    def Cria_Serie_Inteiro( self ):\n",
    "        return pd.Series( np.random.randint( self.inicio_variacao , self.fim_variacao , size = self.quantidade_linhas ))\n",
    "    \n",
    "    # 3.0 - Método para criar uma série de dados com números reais\n",
    "    def Cria_Serie_Reais( self ):\n",
    "        return pd.Series( np.random.random( size = self.quantidade_linhas ) * 100)\n",
    "    \n",
    "    # 4.0 - Método para criar uma série de dados categoricos\n",
    "    def Cria_Serie_Categorical( self, lista):\n",
    "        return pd.Series( np.random.choice( lista , size = self.quantidade_linhas ))"
   ]
  },
  {
   "cell_type": "code",
   "execution_count": 66,
   "metadata": {},
   "outputs": [
    {
     "data": {
      "text/plain": [
       "0       Caderno\n",
       "1       Tesoura\n",
       "2       Caderno\n",
       "3       Tesoura\n",
       "4          Cola\n",
       "        ...    \n",
       "95       Estojo\n",
       "96         Cola\n",
       "97        Régua\n",
       "98      Mochila\n",
       "99    Apontador\n",
       "Length: 100, dtype: object"
      ]
     },
     "execution_count": 66,
     "metadata": {},
     "output_type": "execute_result"
    }
   ],
   "source": [
    "listdado_de_itens = ['Caderno', 'Lápis', 'Caneta', 'Borracha', 'Apontador', 'Régua', 'Tesoura', 'Cola', 'Mochila', 'Estojo']\n",
    "dado = Gerador_de_Dados()\n",
    "inteiro = dado.Cria_Serie_Inteiro()\n",
    "numerico = dado.Cria_Serie_Reais()\n",
    "categorico = dado.Cria_Serie_Categorical(listdado_de_itens)\n",
    "categorico"
   ]
  },
  {
   "cell_type": "code",
   "execution_count": null,
   "metadata": {},
   "outputs": [],
   "source": []
  }
 ],
 "metadata": {
  "kernelspec": {
   "display_name": "Python 3",
   "language": "python",
   "name": "python3"
  },
  "language_info": {
   "codemirror_mode": {
    "name": "ipython",
    "version": 3
   },
   "file_extension": ".py",
   "mimetype": "text/x-python",
   "name": "python",
   "nbconvert_exporter": "python",
   "pygments_lexer": "ipython3",
   "version": "3.10.6"
  }
 },
 "nbformat": 4,
 "nbformat_minor": 2
}
