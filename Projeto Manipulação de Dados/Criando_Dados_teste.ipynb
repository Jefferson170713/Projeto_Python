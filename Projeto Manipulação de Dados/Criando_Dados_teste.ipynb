{
 "cells": [
  {
   "cell_type": "code",
   "execution_count": 3,
   "metadata": {},
   "outputs": [],
   "source": [
    "import pandas as pd\n",
    "import numpy as np"
   ]
  },
  {
   "cell_type": "code",
   "execution_count": 17,
   "metadata": {},
   "outputs": [
    {
     "data": {
      "text/plain": [
       "0      65.154319\n",
       "1       8.631388\n",
       "2      33.108540\n",
       "3      20.528096\n",
       "4      39.095190\n",
       "         ...    \n",
       "995    43.454494\n",
       "996    27.725888\n",
       "997     4.354905\n",
       "998    84.862173\n",
       "999    43.746608\n",
       "Length: 1000, dtype: float64"
      ]
     },
     "execution_count": 17,
     "metadata": {},
     "output_type": "execute_result"
    }
   ],
   "source": [
    "# Classe para gerar dados aleatórios\n",
    "class Gerador_de_Dados:\n",
    "    # 1.0 -  Construtor da classe\n",
    "    def __init__(self, dataFrame = None, inicio=0, fim=100, tamanho=1000):\n",
    "        self.dataFrame = dataFrame\n",
    "        self.inicio = inicio\n",
    "        self.fim = fim\n",
    "        self.tamanho = tamanho\n",
    "    # 2.0 - Método para criar uma série de dados inteiros\n",
    "    def Cria_Serie_Inteiro(self, inicio, fim, tamanho):\n",
    "        aux = pd.Series(np.random.randint(inicio, fim, size=tamanho))\n",
    "        self.dados = aux\n",
    "        return self.dados\n",
    "    # 3.0 - Método para criar uma série de dados com números reais\n",
    "    def Cria_Serie_Reais(self, tamanho):\n",
    "        aux = pd.Series(np.random.random(size=tamanho) * 100)\n",
    "        self.dados = aux\n",
    "        return self.dados \n",
    "    \n",
    "a = Gerador_de_Dados()\n",
    "# Por algum motivo eu estou comsegui criar a série de dados, uma por vez\n",
    "#a = a.Cria_Serie_Inteiro(0, 100, 1000)\n",
    "a = a.Cria_Serie_Reais(1000)\n",
    "a"
   ]
  },
  {
   "cell_type": "code",
   "execution_count": null,
   "metadata": {},
   "outputs": [],
   "source": []
  },
  {
   "cell_type": "code",
   "execution_count": null,
   "metadata": {},
   "outputs": [],
   "source": [
    "# Usando a biblioteca pandas para criar uma serie de 100000 elementos numéricos np.array\n",
    "# Variando de 0 a 100, com 100000 elementos\n",
    "\n",
    "# 1 - a variável \"inicio\" recebe o valor 0, que é o valor inicial do intervalo\n",
    "inicio = 0\n",
    "# 2 - a variável \"fim\" recebe o valor 100, que é o valor final do intervalo\n",
    "fim = 100\n",
    "# 3 - a variável \"quantidade\" recebe o valor 100000, que é a quantidade de elementos\n",
    "tamanho = 1000000 # 5000000\n",
    "# 4 - a variável \"a\" recebe um array de 100000 elementos, com valores inteiros aleatórios\n",
    "a = np.random.randint( inicio, fim, tamanho)\n",
    "# 5 - a variável \"a\" senddo mostrada de várias formas\n",
    "print(a)\n",
    "print(type(a))\n",
    "print(a.shape)\n",
    "a = pd.Series(a)\n",
    "print(a.info()) "
   ]
  }
 ],
 "metadata": {
  "kernelspec": {
   "display_name": "Python 3",
   "language": "python",
   "name": "python3"
  },
  "language_info": {
   "codemirror_mode": {
    "name": "ipython",
    "version": 3
   },
   "file_extension": ".py",
   "mimetype": "text/x-python",
   "name": "python",
   "nbconvert_exporter": "python",
   "pygments_lexer": "ipython3",
   "version": "3.10.6"
  }
 },
 "nbformat": 4,
 "nbformat_minor": 2
}
